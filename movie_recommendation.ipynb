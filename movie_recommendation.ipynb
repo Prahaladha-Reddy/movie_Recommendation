{
  "cells": [
    {
      "cell_type": "code",
      "execution_count": 4,
      "metadata": {
        "id": "W_1Fpa1rJLo0"
      },
      "outputs": [],
      "source": [
        "import pandas as pd"
      ]
    },
    {
      "cell_type": "code",
      "execution_count": 5,
      "metadata": {
        "id": "cCbtAyGCKY4g"
      },
      "outputs": [],
      "source": [
        "import pandas as pd\n",
        "data=pd.read_csv('dataset.csv')"
      ]
    },
    {
      "cell_type": "code",
      "execution_count": 6,
      "metadata": {
        "colab": {
          "base_uri": "https://localhost:8080/",
          "height": 573
        },
        "id": "loPT4m7DLKaM",
        "outputId": "e6541df4-708e-423d-861e-0bfbbbcfe61f"
      },
      "outputs": [
        {
          "data": {
            "text/html": [
              "<div>\n",
              "<style scoped>\n",
              "    .dataframe tbody tr th:only-of-type {\n",
              "        vertical-align: middle;\n",
              "    }\n",
              "\n",
              "    .dataframe tbody tr th {\n",
              "        vertical-align: top;\n",
              "    }\n",
              "\n",
              "    .dataframe thead th {\n",
              "        text-align: right;\n",
              "    }\n",
              "</style>\n",
              "<table border=\"1\" class=\"dataframe\">\n",
              "  <thead>\n",
              "    <tr style=\"text-align: right;\">\n",
              "      <th></th>\n",
              "      <th>id</th>\n",
              "      <th>title</th>\n",
              "      <th>genre</th>\n",
              "      <th>original_language</th>\n",
              "      <th>overview</th>\n",
              "      <th>popularity</th>\n",
              "      <th>release_date</th>\n",
              "      <th>vote_average</th>\n",
              "      <th>vote_count</th>\n",
              "    </tr>\n",
              "  </thead>\n",
              "  <tbody>\n",
              "    <tr>\n",
              "      <th>0</th>\n",
              "      <td>278</td>\n",
              "      <td>The Shawshank Redemption</td>\n",
              "      <td>Drama,Crime</td>\n",
              "      <td>en</td>\n",
              "      <td>Framed in the 1940s for the double murder of h...</td>\n",
              "      <td>94.075</td>\n",
              "      <td>1994-09-23</td>\n",
              "      <td>8.7</td>\n",
              "      <td>21862</td>\n",
              "    </tr>\n",
              "    <tr>\n",
              "      <th>1</th>\n",
              "      <td>19404</td>\n",
              "      <td>Dilwale Dulhania Le Jayenge</td>\n",
              "      <td>Comedy,Drama,Romance</td>\n",
              "      <td>hi</td>\n",
              "      <td>Raj is a rich, carefree, happy-go-lucky second...</td>\n",
              "      <td>25.408</td>\n",
              "      <td>1995-10-19</td>\n",
              "      <td>8.7</td>\n",
              "      <td>3731</td>\n",
              "    </tr>\n",
              "    <tr>\n",
              "      <th>2</th>\n",
              "      <td>238</td>\n",
              "      <td>The Godfather</td>\n",
              "      <td>Drama,Crime</td>\n",
              "      <td>en</td>\n",
              "      <td>Spanning the years 1945 to 1955, a chronicle o...</td>\n",
              "      <td>90.585</td>\n",
              "      <td>1972-03-14</td>\n",
              "      <td>8.7</td>\n",
              "      <td>16280</td>\n",
              "    </tr>\n",
              "    <tr>\n",
              "      <th>3</th>\n",
              "      <td>424</td>\n",
              "      <td>Schindler's List</td>\n",
              "      <td>Drama,History,War</td>\n",
              "      <td>en</td>\n",
              "      <td>The true story of how businessman Oskar Schind...</td>\n",
              "      <td>44.761</td>\n",
              "      <td>1993-12-15</td>\n",
              "      <td>8.6</td>\n",
              "      <td>12959</td>\n",
              "    </tr>\n",
              "    <tr>\n",
              "      <th>4</th>\n",
              "      <td>240</td>\n",
              "      <td>The Godfather: Part II</td>\n",
              "      <td>Drama,Crime</td>\n",
              "      <td>en</td>\n",
              "      <td>In the continuing saga of the Corleone crime f...</td>\n",
              "      <td>57.749</td>\n",
              "      <td>1974-12-20</td>\n",
              "      <td>8.6</td>\n",
              "      <td>9811</td>\n",
              "    </tr>\n",
              "  </tbody>\n",
              "</table>\n",
              "</div>"
            ],
            "text/plain": [
              "      id                        title                 genre original_language  \\\n",
              "0    278     The Shawshank Redemption           Drama,Crime                en   \n",
              "1  19404  Dilwale Dulhania Le Jayenge  Comedy,Drama,Romance                hi   \n",
              "2    238                The Godfather           Drama,Crime                en   \n",
              "3    424             Schindler's List     Drama,History,War                en   \n",
              "4    240       The Godfather: Part II           Drama,Crime                en   \n",
              "\n",
              "                                            overview  popularity release_date  \\\n",
              "0  Framed in the 1940s for the double murder of h...      94.075   1994-09-23   \n",
              "1  Raj is a rich, carefree, happy-go-lucky second...      25.408   1995-10-19   \n",
              "2  Spanning the years 1945 to 1955, a chronicle o...      90.585   1972-03-14   \n",
              "3  The true story of how businessman Oskar Schind...      44.761   1993-12-15   \n",
              "4  In the continuing saga of the Corleone crime f...      57.749   1974-12-20   \n",
              "\n",
              "   vote_average  vote_count  \n",
              "0           8.7       21862  \n",
              "1           8.7        3731  \n",
              "2           8.7       16280  \n",
              "3           8.6       12959  \n",
              "4           8.6        9811  "
            ]
          },
          "execution_count": 6,
          "metadata": {},
          "output_type": "execute_result"
        }
      ],
      "source": [
        "data.head()"
      ]
    },
    {
      "cell_type": "code",
      "execution_count": 7,
      "metadata": {
        "id": "R9_UkFt-LN8j"
      },
      "outputs": [],
      "source": [
        "movies=data[['id','title','overview','genre','popularity']]"
      ]
    },
    {
      "cell_type": "code",
      "execution_count": 8,
      "metadata": {
        "colab": {
          "base_uri": "https://localhost:8080/",
          "height": 206
        },
        "id": "lYPbn42jMQGW",
        "outputId": "c6c66dd1-befc-4de5-a441-ab67fb9ec0f5"
      },
      "outputs": [
        {
          "data": {
            "text/html": [
              "<div>\n",
              "<style scoped>\n",
              "    .dataframe tbody tr th:only-of-type {\n",
              "        vertical-align: middle;\n",
              "    }\n",
              "\n",
              "    .dataframe tbody tr th {\n",
              "        vertical-align: top;\n",
              "    }\n",
              "\n",
              "    .dataframe thead th {\n",
              "        text-align: right;\n",
              "    }\n",
              "</style>\n",
              "<table border=\"1\" class=\"dataframe\">\n",
              "  <thead>\n",
              "    <tr style=\"text-align: right;\">\n",
              "      <th></th>\n",
              "      <th>id</th>\n",
              "      <th>title</th>\n",
              "      <th>overview</th>\n",
              "      <th>genre</th>\n",
              "      <th>popularity</th>\n",
              "    </tr>\n",
              "  </thead>\n",
              "  <tbody>\n",
              "    <tr>\n",
              "      <th>0</th>\n",
              "      <td>278</td>\n",
              "      <td>The Shawshank Redemption</td>\n",
              "      <td>Framed in the 1940s for the double murder of h...</td>\n",
              "      <td>Drama,Crime</td>\n",
              "      <td>94.075</td>\n",
              "    </tr>\n",
              "    <tr>\n",
              "      <th>1</th>\n",
              "      <td>19404</td>\n",
              "      <td>Dilwale Dulhania Le Jayenge</td>\n",
              "      <td>Raj is a rich, carefree, happy-go-lucky second...</td>\n",
              "      <td>Comedy,Drama,Romance</td>\n",
              "      <td>25.408</td>\n",
              "    </tr>\n",
              "    <tr>\n",
              "      <th>2</th>\n",
              "      <td>238</td>\n",
              "      <td>The Godfather</td>\n",
              "      <td>Spanning the years 1945 to 1955, a chronicle o...</td>\n",
              "      <td>Drama,Crime</td>\n",
              "      <td>90.585</td>\n",
              "    </tr>\n",
              "    <tr>\n",
              "      <th>3</th>\n",
              "      <td>424</td>\n",
              "      <td>Schindler's List</td>\n",
              "      <td>The true story of how businessman Oskar Schind...</td>\n",
              "      <td>Drama,History,War</td>\n",
              "      <td>44.761</td>\n",
              "    </tr>\n",
              "    <tr>\n",
              "      <th>4</th>\n",
              "      <td>240</td>\n",
              "      <td>The Godfather: Part II</td>\n",
              "      <td>In the continuing saga of the Corleone crime f...</td>\n",
              "      <td>Drama,Crime</td>\n",
              "      <td>57.749</td>\n",
              "    </tr>\n",
              "  </tbody>\n",
              "</table>\n",
              "</div>"
            ],
            "text/plain": [
              "      id                        title  \\\n",
              "0    278     The Shawshank Redemption   \n",
              "1  19404  Dilwale Dulhania Le Jayenge   \n",
              "2    238                The Godfather   \n",
              "3    424             Schindler's List   \n",
              "4    240       The Godfather: Part II   \n",
              "\n",
              "                                            overview                 genre  \\\n",
              "0  Framed in the 1940s for the double murder of h...           Drama,Crime   \n",
              "1  Raj is a rich, carefree, happy-go-lucky second...  Comedy,Drama,Romance   \n",
              "2  Spanning the years 1945 to 1955, a chronicle o...           Drama,Crime   \n",
              "3  The true story of how businessman Oskar Schind...     Drama,History,War   \n",
              "4  In the continuing saga of the Corleone crime f...           Drama,Crime   \n",
              "\n",
              "   popularity  \n",
              "0      94.075  \n",
              "1      25.408  \n",
              "2      90.585  \n",
              "3      44.761  \n",
              "4      57.749  "
            ]
          },
          "execution_count": 8,
          "metadata": {},
          "output_type": "execute_result"
        }
      ],
      "source": [
        "movies.head()"
      ]
    },
    {
      "cell_type": "code",
      "execution_count": 9,
      "metadata": {
        "colab": {
          "base_uri": "https://localhost:8080/"
        },
        "id": "XToc1ZMTMSAy",
        "outputId": "ddfc5995-b636-40ab-8e46-1a2ba5589cd0"
      },
      "outputs": [
        {
          "name": "stderr",
          "output_type": "stream",
          "text": [
            "C:\\Users\\bored\\AppData\\Local\\Temp\\ipykernel_20024\\3677936100.py:1: SettingWithCopyWarning: \n",
            "A value is trying to be set on a copy of a slice from a DataFrame.\n",
            "Try using .loc[row_indexer,col_indexer] = value instead\n",
            "\n",
            "See the caveats in the documentation: https://pandas.pydata.org/pandas-docs/stable/user_guide/indexing.html#returning-a-view-versus-a-copy\n",
            "  movies['tag']=movies['overview']+movies['genre']\n"
          ]
        }
      ],
      "source": [
        "movies['tag']=movies['overview']+movies['genre']"
      ]
    },
    {
      "cell_type": "code",
      "execution_count": 10,
      "metadata": {
        "id": "orNrS6FzMr_O"
      },
      "outputs": [],
      "source": [
        "new_data=movies.drop(columns=['overview','genre'])"
      ]
    },
    {
      "cell_type": "code",
      "execution_count": 11,
      "metadata": {
        "colab": {
          "base_uri": "https://localhost:8080/",
          "height": 206
        },
        "id": "Hy6L0hhbM4Nq",
        "outputId": "7fc1fd43-5e0d-4cd1-b92c-ac05f96d3c64"
      },
      "outputs": [
        {
          "data": {
            "text/html": [
              "<div>\n",
              "<style scoped>\n",
              "    .dataframe tbody tr th:only-of-type {\n",
              "        vertical-align: middle;\n",
              "    }\n",
              "\n",
              "    .dataframe tbody tr th {\n",
              "        vertical-align: top;\n",
              "    }\n",
              "\n",
              "    .dataframe thead th {\n",
              "        text-align: right;\n",
              "    }\n",
              "</style>\n",
              "<table border=\"1\" class=\"dataframe\">\n",
              "  <thead>\n",
              "    <tr style=\"text-align: right;\">\n",
              "      <th></th>\n",
              "      <th>id</th>\n",
              "      <th>title</th>\n",
              "      <th>popularity</th>\n",
              "      <th>tag</th>\n",
              "    </tr>\n",
              "  </thead>\n",
              "  <tbody>\n",
              "    <tr>\n",
              "      <th>0</th>\n",
              "      <td>278</td>\n",
              "      <td>The Shawshank Redemption</td>\n",
              "      <td>94.075</td>\n",
              "      <td>Framed in the 1940s for the double murder of h...</td>\n",
              "    </tr>\n",
              "    <tr>\n",
              "      <th>1</th>\n",
              "      <td>19404</td>\n",
              "      <td>Dilwale Dulhania Le Jayenge</td>\n",
              "      <td>25.408</td>\n",
              "      <td>Raj is a rich, carefree, happy-go-lucky second...</td>\n",
              "    </tr>\n",
              "    <tr>\n",
              "      <th>2</th>\n",
              "      <td>238</td>\n",
              "      <td>The Godfather</td>\n",
              "      <td>90.585</td>\n",
              "      <td>Spanning the years 1945 to 1955, a chronicle o...</td>\n",
              "    </tr>\n",
              "    <tr>\n",
              "      <th>3</th>\n",
              "      <td>424</td>\n",
              "      <td>Schindler's List</td>\n",
              "      <td>44.761</td>\n",
              "      <td>The true story of how businessman Oskar Schind...</td>\n",
              "    </tr>\n",
              "    <tr>\n",
              "      <th>4</th>\n",
              "      <td>240</td>\n",
              "      <td>The Godfather: Part II</td>\n",
              "      <td>57.749</td>\n",
              "      <td>In the continuing saga of the Corleone crime f...</td>\n",
              "    </tr>\n",
              "  </tbody>\n",
              "</table>\n",
              "</div>"
            ],
            "text/plain": [
              "      id                        title  popularity  \\\n",
              "0    278     The Shawshank Redemption      94.075   \n",
              "1  19404  Dilwale Dulhania Le Jayenge      25.408   \n",
              "2    238                The Godfather      90.585   \n",
              "3    424             Schindler's List      44.761   \n",
              "4    240       The Godfather: Part II      57.749   \n",
              "\n",
              "                                                 tag  \n",
              "0  Framed in the 1940s for the double murder of h...  \n",
              "1  Raj is a rich, carefree, happy-go-lucky second...  \n",
              "2  Spanning the years 1945 to 1955, a chronicle o...  \n",
              "3  The true story of how businessman Oskar Schind...  \n",
              "4  In the continuing saga of the Corleone crime f...  "
            ]
          },
          "execution_count": 11,
          "metadata": {},
          "output_type": "execute_result"
        }
      ],
      "source": [
        "new_data.head()"
      ]
    },
    {
      "cell_type": "code",
      "execution_count": 12,
      "metadata": {
        "id": "ZA2cvUR3M5q_"
      },
      "outputs": [],
      "source": [
        "from sklearn.feature_extraction.text import CountVectorizer\n",
        "cv=CountVectorizer(max_features=10000,stop_words='english')"
      ]
    },
    {
      "cell_type": "code",
      "execution_count": 13,
      "metadata": {
        "id": "ZytlHDooNPAK"
      },
      "outputs": [],
      "source": [
        "vector=cv.fit_transform(new_data['tag'].values.astype('U')).toarray()"
      ]
    },
    {
      "cell_type": "code",
      "execution_count": 14,
      "metadata": {
        "id": "WIoPu3WJNfz4"
      },
      "outputs": [],
      "source": [
        "from sklearn.metrics.pairwise import cosine_similarity"
      ]
    },
    {
      "cell_type": "code",
      "execution_count": 15,
      "metadata": {
        "id": "fqLkgyytOFLk"
      },
      "outputs": [],
      "source": [
        "similarity=cosine_similarity(vector)"
      ]
    },
    {
      "cell_type": "code",
      "execution_count": 16,
      "metadata": {
        "colab": {
          "base_uri": "https://localhost:8080/"
        },
        "id": "AdaNFzDROIM6",
        "outputId": "436f84a0-fbe4-41a1-a2a7-72db81a75c8e"
      },
      "outputs": [
        {
          "data": {
            "text/plain": [
              "1632"
            ]
          },
          "execution_count": 16,
          "metadata": {},
          "output_type": "execute_result"
        }
      ],
      "source": [
        "new_data[new_data['title']=='The Lego Movie'].index[0]"
      ]
    },
    {
      "cell_type": "code",
      "execution_count": 17,
      "metadata": {
        "collapsed": true,
        "id": "kIOJBLchTMy4"
      },
      "outputs": [],
      "source": [
        "distance=sorted(list(enumerate(similarity[2])),reverse=True,key=lambda x:x[1])"
      ]
    },
    {
      "cell_type": "code",
      "execution_count": 18,
      "metadata": {
        "colab": {
          "base_uri": "https://localhost:8080/"
        },
        "id": "whJPgBuATf4y",
        "outputId": "b24d9d01-9ad0-4fd4-fca6-7d9080ccb972"
      },
      "outputs": [
        {
          "name": "stdout",
          "output_type": "stream",
          "text": [
            "The Godfather\n",
            "The Godfather: Part II\n",
            "Blood Ties\n",
            "Joker\n",
            "Bomb City\n"
          ]
        }
      ],
      "source": [
        "for i in distance[0:5]:\n",
        "  print(new_data.iloc[i[0]].title)"
      ]
    },
    {
      "cell_type": "code",
      "execution_count": 19,
      "metadata": {
        "id": "9xdNor2XUI2c"
      },
      "outputs": [],
      "source": [
        "def recommand(movies):\n",
        "  index=new_data[new_data['title']==movies].index[0]\n",
        "  distance=sorted(list(enumerate(similarity[index])),reverse=True,key=lambda x:x[1])\n",
        "  for i in distance[0:5]:\n",
        "    print(new_data.iloc[i[0]].title)"
      ]
    },
    {
      "cell_type": "code",
      "execution_count": 20,
      "metadata": {
        "colab": {
          "base_uri": "https://localhost:8080/"
        },
        "id": "hDjykwKeW7aJ",
        "outputId": "73ebcb86-f8d0-4673-8fef-380eb2acd486"
      },
      "outputs": [
        {
          "name": "stdout",
          "output_type": "stream",
          "text": [
            "The Lego Movie\n",
            "Minions: The Rise of Gru\n",
            "Onward\n",
            "Percy Jackson: Sea of Monsters\n",
            "Igor\n"
          ]
        }
      ],
      "source": [
        "recommand('The Lego Movie')"
      ]
    },
    {
      "cell_type": "code",
      "execution_count": 21,
      "metadata": {
        "colab": {
          "base_uri": "https://localhost:8080/"
        },
        "id": "ulsWrZ-HW9AR",
        "outputId": "b5d9db35-1434-4f88-930e-d49c5f4bc439"
      },
      "outputs": [
        {
          "name": "stdout",
          "output_type": "stream",
          "text": [
            "The Dark Knight Rises\n",
            "Batman: The Long Halloween, Part One\n",
            "Batman: The Long Halloween, Part Two\n",
            "The Dark Knight\n",
            "Batman: Gotham by Gaslight\n"
          ]
        }
      ],
      "source": [
        "recommand('The Dark Knight Rises')"
      ]
    },
    {
      "cell_type": "code",
      "execution_count": 22,
      "metadata": {
        "id": "N9bXzRkHXAJ9"
      },
      "outputs": [],
      "source": [
        "import pickle"
      ]
    },
    {
      "cell_type": "code",
      "execution_count": 23,
      "metadata": {
        "id": "OTTRRymRXFUJ"
      },
      "outputs": [],
      "source": [
        "pickle.dump(new_data,open('movies_list.pkl','wb'))\n",
        "pickle.dump(similarity,open('similarity.pkl','wb'))"
      ]
    },
    {
      "cell_type": "code",
      "execution_count": null,
      "metadata": {
        "id": "iRlcXVS3XLx9"
      },
      "outputs": [],
      "source": []
    }
  ],
  "metadata": {
    "colab": {
      "provenance": []
    },
    "kernelspec": {
      "display_name": "Python 3",
      "name": "python3"
    },
    "language_info": {
      "codemirror_mode": {
        "name": "ipython",
        "version": 3
      },
      "file_extension": ".py",
      "mimetype": "text/x-python",
      "name": "python",
      "nbconvert_exporter": "python",
      "pygments_lexer": "ipython3",
      "version": "3.11.9"
    }
  },
  "nbformat": 4,
  "nbformat_minor": 0
}
